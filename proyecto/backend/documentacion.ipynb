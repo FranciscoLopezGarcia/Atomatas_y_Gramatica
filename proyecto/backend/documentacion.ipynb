{
 "cells": [
  {
   "attachments": {},
   "cell_type": "markdown",
   "metadata": {},
   "source": [
    "Este programa en Python tiene como objetivo filtrar y extraer información de usuarios que se han conectado a un punto de acceso (AP) en un rango de fechas específico. Está compuesto por dos módulos: csv_tool.py y app_cli.py.\n",
    "\n",
    "- csv_tool: se encarga de extraer la informacion y aplicar expresiones regulares\n",
    "- app_cli: se encarga de filtar la informacion con la MACAddress del AP elegido y con las fechas provistas por el usuario"
   ]
  },
  {
   "attachments": {},
   "cell_type": "markdown",
   "metadata": {},
   "source": [
    "csv_tool\n",
    "\n",
    "Primero lo que haces es definir las expresiones regulares que vamos a usar.\n",
    "\n",
    "Las expresiones regulares (regex) son patrones de búsqueda utilizados para encontrar coincidencias dentro de texto. En este programa, se utilizan varias expresiones regulares para validar y filtrar datos en el archivo CSV.\n"
   ]
  },
  {
   "cell_type": "code",
   "execution_count": null,
   "metadata": {},
   "outputs": [],
   "source": [
    "import re\n",
    "\n",
    "MAC_AP_RE = re.compile(r\"([0-9A-Fa-f]{2}-){5}[0-9A-Fa-f]{2}:HCDD$\")\n",
    "MAC_CLIENT_RE = re.compile(r\"([0-9A-Fa-f]{2}[:-]){5}([0-9A-Fa-f]{2})$\")\n",
    "IP_NAS_RE = re.compile(r\"((?:192\\.168\\.247\\.[0-9]{2})|(?:192\\.168\\.1\\.20))$\")\n",
    "ID_RE = re.compile(r\"\\d{6,7}$\")\n",
    "ID_SESION_RE = re.compile(r\"[A-F0-9]{8}-[A-F0-9]{8}$\")\n",
    "ID_CONEXION_UNICO_RE = re.compile(r\"[a-f0-9]{16}$\")\n",
    "USER_RE = re.compile(r\"[a-zA-Z.-]{3,25}$\")\n",
    "DATE_RE = re.compile(r\"(20(1[5-9]|2[0-5])[-/](0[1-9]|1[0-2])[-/]([0-2]\\d|3[0-1])$)\")\n",
    "HOUR_RE = re.compile(r\"([01]\\d|2[0-3]):([0-5]\\d):([0-5]\\d)$\")\n"
   ]
  },
  {
   "attachments": {},
   "cell_type": "markdown",
   "metadata": {},
   "source": [
    "Luego tiene 2 funciones:\n",
    "\n",
    "create_pandas:\n",
    "Se encarga de cargar los datos desde un archivo CSV en un DataFrame de Pandas. El proceso se realiza en tres pasos:\n",
    "\n",
    "1-Se importa la librería Pandas con import pandas as pd.\n",
    "\n",
    "2-Se utiliza \"pd.read_csv(csv_path, low_memory=False)\" para cargar los datos del archivo CSV especificado en csv_path en un DataFrame de Pandas llamado data. El parámetro \"low_memory=False\" se utiliza para evitar problemas de manejo de memoria en archivos CSV grandes.\n",
    "\n",
    "3-La función devuelve el DataFrame data que contiene los datos del archivo CSV."
   ]
  },
  {
   "cell_type": "code",
   "execution_count": null,
   "metadata": {},
   "outputs": [],
   "source": [
    "import pandas as pd\n",
    "\n",
    "def create_pandas(csv_path: str) -> pd.DataFrame:\n",
    "    data = pd.read_csv(csv_path, low_memory=False)\n",
    "    return data"
   ]
  },
  {
   "cell_type": "markdown",
   "metadata": {},
   "source": [
    "Y la funcion apply_regex:\n",
    "\n",
    "La función apply_regex se utiliza para aplicar expresiones regulares a un DataFrame de Pandas y filtrar los datos que coinciden con los patrones definidos. El proceso se realiza en los siguientes pasos:\n",
    "\n",
    "1-Se define una variable filtro que es una serie booleana que representa qué filas cumplen con las condiciones especificadas por las expresiones regulares. Cada expresión regular se aplica a una columna específica del DataFrame.\n",
    "\n",
    "2-Luego, se aplica este filtro al DataFrame utilizando data[filtro], lo que resulta en un nuevo DataFrame que contiene solo las filas que coinciden con los patrones de las expresiones regulares.\n",
    "\n",
    "3-Finalmente, se devuelve este nuevo DataFrame con los datos filtrados."
   ]
  },
  {
   "cell_type": "code",
   "execution_count": null,
   "metadata": {},
   "outputs": [],
   "source": [
    "def apply_regex(data: pd.DataFrame) -> pd.DataFrame:\n",
    "    filtro = (\n",
    "        data[\"MAC_AP\"].apply(lambda x: bool(re.fullmatch(MAC_AP_RE, str(x))))\n",
    "        & data[\"MAC_Cliente\"].apply(lambda x: bool(re.fullmatch(MAC_CLIENT_RE, str(x))))\n",
    "        & data[\"IP_NAS_AP\"].apply(lambda x: bool(re.fullmatch(IP_NAS_RE, str(x))))\n",
    "        & data[\"ID\"].apply(lambda x: bool(re.fullmatch(ID_RE, str(x))))\n",
    "        & data[\"ID_Sesion\"].apply(lambda x: bool(re.fullmatch(ID_SESION_RE, str(x))))\n",
    "        & data[\"ID_Conexión_unico\"].apply(lambda x: bool(re.fullmatch(ID_CONEXION_UNICO_RE, str(x))))\n",
    "        & data[\"Inicio_de_Conexión_Dia\"].apply(lambda x: bool(re.fullmatch(DATE_RE, str(x))))\n",
    "        & data[\"FIN_de_Conexión_Dia\"].apply(lambda x: bool(re.fullmatch(DATE_RE, str(x))))\n",
    "        & data[\"Inicio_de_Conexión_Hora\"].apply(lambda x: bool(re.fullmatch(HOUR_RE, str(x))))\n",
    "        & data[\"FIN_de_Conexión_Hora\"].apply(lambda x: bool(re.fullmatch(HOUR_RE, str(x))))\n",
    "        & data[\"Usuario\"].apply(lambda x: bool(re.fullmatch(USER_RE, str(x))))\n",
    "    )\n",
    "    data = data[filtro]\n",
    "    return data"
   ]
  },
  {
   "attachments": {},
   "cell_type": "markdown",
   "metadata": {},
   "source": [
    "Módulo app_cli.py:\n",
    "\n",
    "Este módulo se encarga de la interacción con el usuario para realizar consultas en el archivo CSV filtrado."
   ]
  },
  {
   "cell_type": "markdown",
   "metadata": {},
   "source": [
    "Lectura y procesamiento del CSV: \n",
    "\n",
    "Este bloque lee el archivo CSV y aplica las expresiones regulares definidas en csv_tool.py para limpiar y validar los datos."
   ]
  },
  {
   "cell_type": "code",
   "execution_count": null,
   "metadata": {},
   "outputs": [],
   "source": [
    "import typer\n",
    "from yaspin import yaspin\n",
    "from csv_tools import create_pandas, apply_regex\n",
    "\n",
    "def menu(csv_path: str = typer.Option(..., prompt=\"Ingrese la ruta del archivo csv\")):\n",
    "    INICIO_CONEXION_DIA = \"Inicio_de_Conexión_Dia\"\n",
    "    FIN_CONEXION_DIA = \"FIN_de_Conexión_Dia\"\n",
    "\n",
    "    with yaspin(text=\"Leyendo csv\", color=\"yellow\"):\n",
    "        data = create_pandas(csv_path)\n",
    "    with yaspin(text=\"Aplicando expresiones regulares\", color=\"yellow\"):\n",
    "        data = apply_regex(data)\n",
    "    ap_list = data[\"MAC_AP\"].unique().tolist()\n"
   ]
  },
  {
   "attachments": {},
   "cell_type": "markdown",
   "metadata": {},
   "source": [
    "Selección de Access Point (AP) y Fechas:\n",
    "\n",
    "Dentro de un bucle while True, la función permite al usuario seleccionar un Access Point (AP) de una lista de AP únicos presentes en el archivo CSV.\n",
    "Luego, solicita al usuario que ingrese fechas de inicio y fin en formato \"YYYY-MM-DD\"."
   ]
  },
  {
   "cell_type": "code",
   "execution_count": null,
   "metadata": {},
   "outputs": [],
   "source": [
    "import inquirer\n",
    "\n",
    "ap_list = data[\"MAC_AP\"].unique().tolist()\n",
    "while True:\n",
    "        ap = inquirer.prompt(\n",
    "            [inquirer.List(\"ACCESS POINT\", message=\"Seleccione un AP\", choices=ap_list)]\n",
    "        )\n",
    "\n",
    "        fechas = inquirer.prompt(\n",
    "            [\n",
    "                inquirer.Text(\n",
    "                    \"FECHA DE INICIO\",\n",
    "                    message=\"Ingrese la fecha de inicio (YYYY-MM-DD)\",\n",
    "                    validate=lambda _, x: DATE_RE.fullmatch(x) is not None,\n",
    "                ),\n",
    "                inquirer.Text(\n",
    "                    \"FECHA DE FIN\",\n",
    "                    message=\"Ingrese la fecha de fin (YYYY-MM-DD)\",\n",
    "                    validate=lambda _, x: DATE_RE.fullmatch(x) is not None,\n",
    "                ),\n",
    "            ]\n",
    "        )\n",
    "\n",
    "        ap, fecha_i, fecha_f = (\n",
    "            ap[\"ACCESS POINT\"],\n",
    "            pd.to_datetime(fechas[\"FECHA DE INICIO\"]),\n",
    "            pd.to_datetime(fechas[\"FECHA DE FIN\"]),\n",
    "        )\n",
    "\n",
    "        data[\"Inicio_de_Conexión_Dia\"] = pd.to_datetime(data[\"Inicio_de_Conexión_Dia\"])\n",
    "        data[\"FIN_de_Conexión_Dia\"] = pd.to_datetime(data[\"FIN_de_Conexión_Dia\"]) "
   ]
  },
  {
   "cell_type": "markdown",
   "metadata": {},
   "source": [
    "Filtrado de datos:\n",
    "\n",
    "Después de obtener la selección del usuario, se aplica un filtro a los datos del archivo CSV.\n",
    "El filtro busca registros que coincidan con el Access Point seleccionado y que estén dentro del rango de fechas especificado.\n",
    "También se tiene en cuenta si las fechas de inicio o fin de conexión están dentro del rango especificado.\n",
    "Los registros que cumplen con estas condiciones se almacenan en la variable data."
   ]
  },
  {
   "cell_type": "code",
   "execution_count": null,
   "metadata": {},
   "outputs": [],
   "source": [
    "ap, fecha_i, fecha_f = (\n",
    "    ap[\"ACCESS POINT\"],\n",
    "    pd.to_datetime(fechas[\"FECHA DE INICIO\"]),\n",
    "    pd.to_datetime(fechas[\"FECHA DE FIN\"]),\n",
    ")\n",
    "\n",
    "data[INICIO_CONEXION_DIA] = pd.to_datetime(data[INICIO_CONEXION_DIA])\n",
    "data[FIN_CONEXION_DIA] = pd.to_datetime(data[FIN_CONEXION_DIA])\n",
    "\n",
    "filtro = (\n",
    "    (data[\"MAC_AP\"] == ap) &\n",
    "    (\n",
    "        (data[INICIO_CONEXION_DIA].between(fecha_i, fecha_f)) |\n",
    "        (data[FIN_CONEXION_DIA].between(fecha_i, fecha_f)) |\n",
    "        (data[INICIO_CONEXION_DIA] <= fecha_i) & (data[FIN_CONEXION_DIA] >= fecha_f)\n",
    "    )\n",
    ")"
   ]
  },
  {
   "cell_type": "markdown",
   "metadata": {},
   "source": [
    "Extracción de Usuarios Únicos y Presentación de Resultados:\n",
    "\n",
    "La función extrae los nombres de usuario únicos de los registros filtrados en data.\n",
    "Se genera una consulta que describe la selección del usuario (AP, fechas) y se muestra en la consola.\n",
    "Los nombres de usuario únicos se presentan en forma de tabla en la consola utilizando la función tabulate."
   ]
  },
  {
   "cell_type": "code",
   "execution_count": null,
   "metadata": {},
   "outputs": [],
   "source": [
    "import tabulate\n",
    "\n",
    "data = data.loc[filtro]\n",
    "users = data[\"Usuario\"].unique()\n",
    "\n",
    "consulta = f'Usuarios conectados al AP {ap} entre {fecha_i} y {fecha_f}'\n",
    "print(\"\")\n",
    "print(\n",
    "    tabulate(\n",
    "        [[user] for user in users],\n",
    "        headers=[\n",
    "            consulta\n",
    "        ],\n",
    "        tablefmt=\"grid\",\n",
    "        stralign=\"center\",\n",
    "    )\n",
    ")\n"
   ]
  },
  {
   "cell_type": "markdown",
   "metadata": {},
   "source": [
    "Opciones Adicionales:\n",
    "\n",
    "Se le pregunta al usuario si desea guardar los datos filtrados en un nuevo archivo CSV, en caso de afirmar utiliza la funcion \"write_to_csv.\n",
    "También se le pregunta si desea realizar otra consulta."
   ]
  },
  {
   "cell_type": "code",
   "execution_count": null,
   "metadata": {},
   "outputs": [],
   "source": [
    "if typer.confirm(\"¿Desea guardar los datos en un archivo csv?\"):\n",
    "    write_to_csv(data, consulta)\n",
    "\n",
    "if not typer.confirm(\"¿Desea realizar otra consulta?\"):\n",
    "    print(\"Gracias por usar nuestro programa\")\n",
    "    break\n",
    "\n",
    "def write_to_csv(data: pd.DataFrame, consulta: str):\n",
    "    file_name = f'output_{consulta}.csv'\n",
    "    data.to_csv(file_name, index=False)"
   ]
  }
 ],
 "metadata": {
  "kernelspec": {
   "display_name": "Python 3",
   "language": "python",
   "name": "python3"
  },
  "language_info": {
   "codemirror_mode": {
    "name": "ipython",
    "version": 3
   },
   "file_extension": ".py",
   "mimetype": "text/x-python",
   "name": "python",
   "nbconvert_exporter": "python",
   "pygments_lexer": "ipython3",
   "version": "3.11.4"
  },
  "orig_nbformat": 4
 },
 "nbformat": 4,
 "nbformat_minor": 2
}
